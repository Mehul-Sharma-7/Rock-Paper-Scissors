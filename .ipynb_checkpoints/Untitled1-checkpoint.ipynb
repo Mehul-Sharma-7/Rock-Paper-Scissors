{
 "cells": [
  {
   "cell_type": "code",
   "execution_count": 1,
   "id": "68014707",
   "metadata": {},
   "outputs": [
    {
     "ename": "SyntaxError",
     "evalue": "invalid syntax (2369656135.py, line 7)",
     "output_type": "error",
     "traceback": [
      "\u001b[0;36m  File \u001b[0;32m\"/var/folders/99/tkwzndq91lzbswlsd_v4m1tm0000gn/T/ipykernel_16923/2369656135.py\"\u001b[0;36m, line \u001b[0;32m7\u001b[0m\n\u001b[0;31m    if ui == 1 or ui == 2 or ui = 3:\u001b[0m\n\u001b[0m                                ^\u001b[0m\n\u001b[0;31mSyntaxError\u001b[0m\u001b[0;31m:\u001b[0m invalid syntax\n"
     ]
    }
   ],
   "source": [
    "def Uchoice(): #function to take user input\n",
    "    print(\"Enter your choice:\")\n",
    "    print(\"1 for Rock \")\n",
    "    print(\"2 for Paper \")\n",
    "    print(\"3 for Scissors \")\n",
    "    ui = int(input())\n",
    "    if ui == 1 or ui == 2 or ui == 3:\n",
    "        return ui\n",
    "    else:\n",
    "        print(\"Please input appropiate choice: \")\n",
    "        return Uchoice()\n",
    "Uchoice()"
   ]
  },
  {
   "cell_type": "code",
   "execution_count": null,
   "id": "412b31d5",
   "metadata": {},
   "outputs": [],
   "source": []
  }
 ],
 "metadata": {
  "kernelspec": {
   "display_name": "Python 3 (ipykernel)",
   "language": "python",
   "name": "python3"
  },
  "language_info": {
   "codemirror_mode": {
    "name": "ipython",
    "version": 3
   },
   "file_extension": ".py",
   "mimetype": "text/x-python",
   "name": "python",
   "nbconvert_exporter": "python",
   "pygments_lexer": "ipython3",
   "version": "3.8.8"
  }
 },
 "nbformat": 4,
 "nbformat_minor": 5
}
