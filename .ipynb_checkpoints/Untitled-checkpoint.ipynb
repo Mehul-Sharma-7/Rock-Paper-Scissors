{
 "cells": [
  {
   "cell_type": "code",
   "execution_count": 1,
   "id": "7c84aa7c",
   "metadata": {},
   "outputs": [
    {
     "ename": "SyntaxError",
     "evalue": "invalid syntax (rps.py, line 17)",
     "output_type": "error",
     "traceback": [
      "Traceback \u001b[0;36m(most recent call last)\u001b[0m:\n",
      "  File \u001b[1;32m\"/Users/mehulsharma/opt/anaconda3/lib/python3.8/site-packages/IPython/core/interactiveshell.py\"\u001b[0m, line \u001b[1;32m3441\u001b[0m, in \u001b[1;35mrun_code\u001b[0m\n    exec(code_obj, self.user_global_ns, self.user_ns)\n",
      "\u001b[0;36m  File \u001b[0;32m\"/var/folders/99/tkwzndq91lzbswlsd_v4m1tm0000gn/T/ipykernel_14726/446110084.py\"\u001b[0;36m, line \u001b[0;32m1\u001b[0;36m, in \u001b[0;35m<module>\u001b[0;36m\u001b[0m\n\u001b[0;31m    import rps\u001b[0m\n",
      "\u001b[0;36m  File \u001b[0;32m\"/Users/mehulsharma/Project 1/rps.py\"\u001b[0;36m, line \u001b[0;32m17\u001b[0m\n\u001b[0;31m    def Compare(int userChoice, int randomChoice): #Compares values and decides results\u001b[0m\n\u001b[0m                    ^\u001b[0m\n\u001b[0;31mSyntaxError\u001b[0m\u001b[0;31m:\u001b[0m invalid syntax\n"
     ]
    }
   ],
   "source": [
    "import rps"
   ]
  },
  {
   "cell_type": "code",
   "execution_count": 7,
   "id": "143256b9",
   "metadata": {},
   "outputs": [
    {
     "name": "stdout",
     "output_type": "stream",
     "text": [
      "ROCK vs PAPER\n"
     ]
    }
   ],
   "source": [
    "dict = {1:\"ROCK\", 2:\"PAPER\", 3:\"SCISSORS\"}\n",
    "print(dict[1], \"vs\", dict[2])\n"
   ]
  },
  {
   "cell_type": "code",
   "execution_count": 10,
   "id": "037840f2",
   "metadata": {},
   "outputs": [
    {
     "name": "stdout",
     "output_type": "stream",
     "text": [
      "w\n",
      "PLease put yes or no\n",
      "n\n",
      "no\n"
     ]
    }
   ],
   "source": [
    "kp = True\n",
    "def playagain():\n",
    "    ask = input().strip().upper()\n",
    "    if ask.startswith(\"Y\"):\n",
    "        kp = True\n",
    "        print(\"ye\")\n",
    "    elif ask.startswith(\"N\"):\n",
    "        kp = False\n",
    "        print(\"no\")\n",
    "    else:\n",
    "        print(\"PLease put yes or no\")\n",
    "        playagain()\n",
    "playagain()"
   ]
  },
  {
   "cell_type": "code",
   "execution_count": null,
   "id": "a5df12f5",
   "metadata": {},
   "outputs": [],
   "source": [
    "import random\n",
    "\n",
    "dict = {1:\"ROCK\", 2:\"PAPER\", 3:\"SCISSORS\"}\n",
    "kp = True\n",
    "\n",
    "def Uchoice(): #function to take user input\n",
    "    print(\"Enter your choice:\")\n",
    "    print(\"1 for Rock \")\n",
    "    print(\"2 for Paper \")\n",
    "    print(\"3 for Scissors \")\n",
    "    ui = int(input())\n",
    "    return ui\n",
    "\n",
    "def Cchoice(): #Function to take random choice from computer\n",
    "    ci = random.randint(1,3)\n",
    "    return ci\n",
    "\n",
    "def Compare(userChoice, randomChoice): #Function to compare values and decide results\n",
    "    if userChoice == 1:\n",
    "        if randomChoice == 2:\n",
    "            print(dict[1], \"vs\", dict[2]) #Rock vs Paper\n",
    "            print(\"You Lose\")\n",
    "        if randomChoice == 3:\n",
    "            print(dict[1], \"vs\", dict[3]) #Rock vs Scissors\n",
    "            print(\"You Win\")    \n",
    "            \n",
    "    if userChoice == 2:\n",
    "        if randomChoice == 1:\n",
    "            print(dict[2], \"vs\", dict[1]) #Paper vs Rock\n",
    "            print(\"You Win\")\n",
    "        if randomChoice == 3:\n",
    "            print(dict[2], \"vs\", dict[3]) #Paper vs Scissors\n",
    "            print(\"You Lose\") \n",
    "            \n",
    "    if userChoice == 3:\n",
    "        if randomChoice == 1:\n",
    "            print(dict[3], \"vs\", dict[1]) #Scissors vs Rock\n",
    "            print(\"You Lose\")\n",
    "        if randomChoice == 2:\n",
    "            print(dict[3], \"vs\", dict[2]) #Scissors vs Paper\n",
    "            print(\"You Win\") \n",
    "            \n",
    "def playagain(): #Function to allow user to decide to continue playing or not\n",
    "    ask = input().strip().upper()\n",
    "    if ask.startswith(\"Y\"):\n",
    "        kp = True\n",
    "    elif ask.startswith(\"N\"):\n",
    "        kp = False\n",
    "    else:\n",
    "        print(\"PLease put yes or no\")\n",
    "        playagain()\n",
    "    \n",
    "    \n",
    "#main\n",
    "print(\"Welcome to Rock Paper Scissors Game\")\n",
    "while kp:\n",
    "    uc = Uchoice()\n",
    "    rc = Cchoice()\n",
    "    Compare(uc, rc)\n",
    "    print(\"Do you want to play again: Yes or No \")\n",
    "    playagain()"
   ]
  },
  {
   "cell_type": "code",
   "execution_count": null,
   "id": "a07c777e",
   "metadata": {},
   "outputs": [],
   "source": []
  }
 ],
 "metadata": {
  "kernelspec": {
   "display_name": "Python 3 (ipykernel)",
   "language": "python",
   "name": "python3"
  },
  "language_info": {
   "codemirror_mode": {
    "name": "ipython",
    "version": 3
   },
   "file_extension": ".py",
   "mimetype": "text/x-python",
   "name": "python",
   "nbconvert_exporter": "python",
   "pygments_lexer": "ipython3",
   "version": "3.8.8"
  }
 },
 "nbformat": 4,
 "nbformat_minor": 5
}
